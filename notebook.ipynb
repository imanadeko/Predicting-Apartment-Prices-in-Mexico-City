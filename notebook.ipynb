{
 "cells": [
  {
   "cell_type": "markdown",
   "metadata": {},
   "source": [
    "# Predicting Apartment Prices in Mexico City"
   ]
  },
  {
   "cell_type": "markdown",
   "metadata": {},
   "source": [
    "In this project, I will predict the prices of apartments in Mexico City (Distrito Federal)"
   ]
  },
  {
   "cell_type": "code",
   "execution_count": 1,
   "metadata": {},
   "outputs": [],
   "source": [
    "# Import libraries\n",
    "import numpy as np\n",
    "import pandas as pd\n",
    "import matplotlib.pyplot as plt\n",
    "import seaborn as sns\n",
    "from glob import glob\n",
    "from sklearn.model_selection import train_test_split\n",
    "from sklearn.linear_model import LinearRegression\n",
    "from sklearn.metrics import mean_absolute_error\n",
    "from sklearn.impute import SimpleImputer\n",
    "from category_encoders import OneHotEncoder\n",
    "from sklearn.pipeline import Pipeline, make_pipeline"
   ]
  },
  {
   "cell_type": "markdown",
   "metadata": {},
   "source": [
    "## Data Import, Cleaning and Preparation"
   ]
  },
  {
   "cell_type": "markdown",
   "metadata": {},
   "source": [
    "There are 5 different csv files for this project. I will import one of them, clean it, add all the cleaning steps to a function, and apply the function to the rest of the csv files."
   ]
  },
  {
   "cell_type": "code",
   "execution_count": 2,
   "metadata": {},
   "outputs": [
    {
     "data": {
      "text/html": [
       "<div>\n",
       "<style scoped>\n",
       "    .dataframe tbody tr th:only-of-type {\n",
       "        vertical-align: middle;\n",
       "    }\n",
       "\n",
       "    .dataframe tbody tr th {\n",
       "        vertical-align: top;\n",
       "    }\n",
       "\n",
       "    .dataframe thead th {\n",
       "        text-align: right;\n",
       "    }\n",
       "</style>\n",
       "<table border=\"1\" class=\"dataframe\">\n",
       "  <thead>\n",
       "    <tr style=\"text-align: right;\">\n",
       "      <th></th>\n",
       "      <th>Unnamed: 0</th>\n",
       "      <th>operation</th>\n",
       "      <th>property_type</th>\n",
       "      <th>place_with_parent_names</th>\n",
       "      <th>lat-lon</th>\n",
       "      <th>price</th>\n",
       "      <th>currency</th>\n",
       "      <th>price_aprox_local_currency</th>\n",
       "      <th>price_aprox_usd</th>\n",
       "      <th>surface_total_in_m2</th>\n",
       "      <th>surface_covered_in_m2</th>\n",
       "      <th>price_usd_per_m2</th>\n",
       "      <th>price_per_m2</th>\n",
       "      <th>floor</th>\n",
       "      <th>rooms</th>\n",
       "      <th>expenses</th>\n",
       "      <th>properati_url</th>\n",
       "    </tr>\n",
       "  </thead>\n",
       "  <tbody>\n",
       "    <tr>\n",
       "      <th>0</th>\n",
       "      <td>1</td>\n",
       "      <td>sell</td>\n",
       "      <td>apartment</td>\n",
       "      <td>|Miguel Hidalgo|Distrito Federal|México|</td>\n",
       "      <td>23.634501,-102.552788</td>\n",
       "      <td>5500000.0</td>\n",
       "      <td>MXN</td>\n",
       "      <td>5450245.50</td>\n",
       "      <td>289775.66</td>\n",
       "      <td>NaN</td>\n",
       "      <td>54.0</td>\n",
       "      <td>NaN</td>\n",
       "      <td>101851.851900</td>\n",
       "      <td>NaN</td>\n",
       "      <td>NaN</td>\n",
       "      <td>NaN</td>\n",
       "      <td>http://miguel-hidalgo-df.properati.com.mx/o3zb...</td>\n",
       "    </tr>\n",
       "    <tr>\n",
       "      <th>1</th>\n",
       "      <td>2</td>\n",
       "      <td>sell</td>\n",
       "      <td>house</td>\n",
       "      <td>|Iztapalapa|Distrito Federal|México|</td>\n",
       "      <td>19.31033,-99.068557</td>\n",
       "      <td>1512000.0</td>\n",
       "      <td>MXN</td>\n",
       "      <td>1498321.97</td>\n",
       "      <td>79661.96</td>\n",
       "      <td>NaN</td>\n",
       "      <td>80.0</td>\n",
       "      <td>NaN</td>\n",
       "      <td>18900.000000</td>\n",
       "      <td>NaN</td>\n",
       "      <td>NaN</td>\n",
       "      <td>NaN</td>\n",
       "      <td>http://iztapalapa.properati.com.mx/q7t0_venta_...</td>\n",
       "    </tr>\n",
       "    <tr>\n",
       "      <th>2</th>\n",
       "      <td>3</td>\n",
       "      <td>sell</td>\n",
       "      <td>apartment</td>\n",
       "      <td>|Tlalpan|Distrito Federal|México|</td>\n",
       "      <td>19.279771,-99.234597</td>\n",
       "      <td>926667.0</td>\n",
       "      <td>MXN</td>\n",
       "      <td>918284.00</td>\n",
       "      <td>48822.82</td>\n",
       "      <td>NaN</td>\n",
       "      <td>100.0</td>\n",
       "      <td>NaN</td>\n",
       "      <td>9266.670000</td>\n",
       "      <td>NaN</td>\n",
       "      <td>NaN</td>\n",
       "      <td>NaN</td>\n",
       "      <td>http://tlalpan.properati.com.mx/qbi4_venta_dep...</td>\n",
       "    </tr>\n",
       "    <tr>\n",
       "      <th>3</th>\n",
       "      <td>4</td>\n",
       "      <td>sell</td>\n",
       "      <td>apartment</td>\n",
       "      <td>|Miguel Hidalgo|Distrito Federal|México|</td>\n",
       "      <td>23.634501,-102.552788</td>\n",
       "      <td>6410000.0</td>\n",
       "      <td>MXN</td>\n",
       "      <td>6352013.39</td>\n",
       "      <td>337720.36</td>\n",
       "      <td>NaN</td>\n",
       "      <td>135.0</td>\n",
       "      <td>NaN</td>\n",
       "      <td>47481.481480</td>\n",
       "      <td>NaN</td>\n",
       "      <td>NaN</td>\n",
       "      <td>NaN</td>\n",
       "      <td>http://miguel-hidalgo-df.properati.com.mx/opeq...</td>\n",
       "    </tr>\n",
       "    <tr>\n",
       "      <th>4</th>\n",
       "      <td>5</td>\n",
       "      <td>sell</td>\n",
       "      <td>apartment</td>\n",
       "      <td>|Benito Juárez|Quintana Roo|México|</td>\n",
       "      <td>21.1902642,-86.8198375</td>\n",
       "      <td>875000.0</td>\n",
       "      <td>USD</td>\n",
       "      <td>16457437.50</td>\n",
       "      <td>875000.00</td>\n",
       "      <td>0.0</td>\n",
       "      <td>263.0</td>\n",
       "      <td>NaN</td>\n",
       "      <td>3326.996198</td>\n",
       "      <td>NaN</td>\n",
       "      <td>NaN</td>\n",
       "      <td>NaN</td>\n",
       "      <td>http://cancun.properati.com.mx/hg4t_venta_depa...</td>\n",
       "    </tr>\n",
       "  </tbody>\n",
       "</table>\n",
       "</div>"
      ],
      "text/plain": [
       "   Unnamed: 0 operation property_type  \\\n",
       "0           1      sell     apartment   \n",
       "1           2      sell         house   \n",
       "2           3      sell     apartment   \n",
       "3           4      sell     apartment   \n",
       "4           5      sell     apartment   \n",
       "\n",
       "                    place_with_parent_names                 lat-lon  \\\n",
       "0  |Miguel Hidalgo|Distrito Federal|México|   23.634501,-102.552788   \n",
       "1      |Iztapalapa|Distrito Federal|México|     19.31033,-99.068557   \n",
       "2         |Tlalpan|Distrito Federal|México|    19.279771,-99.234597   \n",
       "3  |Miguel Hidalgo|Distrito Federal|México|   23.634501,-102.552788   \n",
       "4       |Benito Juárez|Quintana Roo|México|  21.1902642,-86.8198375   \n",
       "\n",
       "       price currency  price_aprox_local_currency  price_aprox_usd  \\\n",
       "0  5500000.0      MXN                  5450245.50        289775.66   \n",
       "1  1512000.0      MXN                  1498321.97         79661.96   \n",
       "2   926667.0      MXN                   918284.00         48822.82   \n",
       "3  6410000.0      MXN                  6352013.39        337720.36   \n",
       "4   875000.0      USD                 16457437.50        875000.00   \n",
       "\n",
       "   surface_total_in_m2  surface_covered_in_m2  price_usd_per_m2  \\\n",
       "0                  NaN                   54.0               NaN   \n",
       "1                  NaN                   80.0               NaN   \n",
       "2                  NaN                  100.0               NaN   \n",
       "3                  NaN                  135.0               NaN   \n",
       "4                  0.0                  263.0               NaN   \n",
       "\n",
       "    price_per_m2  floor  rooms  expenses  \\\n",
       "0  101851.851900    NaN    NaN       NaN   \n",
       "1   18900.000000    NaN    NaN       NaN   \n",
       "2    9266.670000    NaN    NaN       NaN   \n",
       "3   47481.481480    NaN    NaN       NaN   \n",
       "4    3326.996198    NaN    NaN       NaN   \n",
       "\n",
       "                                       properati_url  \n",
       "0  http://miguel-hidalgo-df.properati.com.mx/o3zb...  \n",
       "1  http://iztapalapa.properati.com.mx/q7t0_venta_...  \n",
       "2  http://tlalpan.properati.com.mx/qbi4_venta_dep...  \n",
       "3  http://miguel-hidalgo-df.properati.com.mx/opeq...  \n",
       "4  http://cancun.properati.com.mx/hg4t_venta_depa...  "
      ]
     },
     "metadata": {},
     "output_type": "display_data"
    },
    {
     "name": "stdout",
     "output_type": "stream",
     "text": [
      "<class 'pandas.core.frame.DataFrame'>\n",
      "RangeIndex: 4628 entries, 0 to 4627\n",
      "Data columns (total 17 columns):\n",
      " #   Column                      Non-Null Count  Dtype  \n",
      "---  ------                      --------------  -----  \n",
      " 0   Unnamed: 0                  4628 non-null   int64  \n",
      " 1   operation                   4628 non-null   object \n",
      " 2   property_type               4628 non-null   object \n",
      " 3   place_with_parent_names     4628 non-null   object \n",
      " 4   lat-lon                     4144 non-null   object \n",
      " 5   price                       4538 non-null   float64\n",
      " 6   currency                    4538 non-null   object \n",
      " 7   price_aprox_local_currency  4538 non-null   float64\n",
      " 8   price_aprox_usd             4538 non-null   float64\n",
      " 9   surface_total_in_m2         1668 non-null   float64\n",
      " 10  surface_covered_in_m2       4436 non-null   float64\n",
      " 11  price_usd_per_m2            1150 non-null   float64\n",
      " 12  price_per_m2                4249 non-null   float64\n",
      " 13  floor                       291 non-null    float64\n",
      " 14  rooms                       136 non-null    float64\n",
      " 15  expenses                    5 non-null      float64\n",
      " 16  properati_url               4628 non-null   object \n",
      "dtypes: float64(10), int64(1), object(6)\n",
      "memory usage: 614.8+ KB\n"
     ]
    },
    {
     "data": {
      "text/plain": [
       "None"
      ]
     },
     "metadata": {},
     "output_type": "display_data"
    }
   ],
   "source": [
    "# Import csv file and inspect it\n",
    "df1 = pd.read_csv('/workspaces/Predicting-Apartment-Prices-in-Mexico-City/mexico-city-real-estate-1.csv')\n",
    "display(df1.head())\n",
    "display(df1.info())"
   ]
  },
  {
   "cell_type": "markdown",
   "metadata": {},
   "source": [
    "Some of the columns contain null values. I will drop columns where at least 50% of its data are null values. I will impute the values in the remaining columns."
   ]
  },
  {
   "cell_type": "code",
   "execution_count": 3,
   "metadata": {},
   "outputs": [
    {
     "data": {
      "text/plain": [
       "Unnamed: 0                    False\n",
       "operation                     False\n",
       "property_type                 False\n",
       "place_with_parent_names       False\n",
       "lat-lon                       False\n",
       "price                         False\n",
       "currency                      False\n",
       "price_aprox_local_currency    False\n",
       "price_aprox_usd               False\n",
       "surface_total_in_m2            True\n",
       "surface_covered_in_m2         False\n",
       "price_usd_per_m2               True\n",
       "price_per_m2                  False\n",
       "floor                          True\n",
       "rooms                          True\n",
       "expenses                       True\n",
       "properati_url                 False\n",
       "dtype: bool"
      ]
     },
     "execution_count": 3,
     "metadata": {},
     "output_type": "execute_result"
    }
   ],
   "source": [
    "# Checking columns with 50% of more missing values\n",
    "(df1.isna().sum() / len(df1)) >= 0.5"
   ]
  },
  {
   "cell_type": "markdown",
   "metadata": {},
   "source": [
    "The columns which have 50% of more missing data are: `surface_total_in_m2`, `price_usd_per_m2`, `floor`, `rooms`, `expenses`.\n",
    "I will drop these columns"
   ]
  },
  {
   "cell_type": "code",
   "execution_count": 4,
   "metadata": {},
   "outputs": [],
   "source": [
    "# Drop affected columns\n",
    "df1.drop(columns=['surface_total_in_m2',\n",
    "                  'price_usd_per_m2',\n",
    "                  'floor',\n",
    "                  'rooms',\n",
    "                  'expenses'],\n",
    "                  inplace=True)"
   ]
  },
  {
   "cell_type": "markdown",
   "metadata": {},
   "source": [
    "Since I'm concerned with only the apartments in Mexico City - Distrito Federal, I will subset on the `property_type` and filter for apartments.\n",
    "\n",
    "Also, I will subset on `place_with_parent_names` and filter for those that contain Distrito Federal"
   ]
  },
  {
   "cell_type": "code",
   "execution_count": 5,
   "metadata": {},
   "outputs": [],
   "source": [
    "# Subset on properties that are apartments\n",
    "apt_filter = df1['property_type'] == 'apartment'\n",
    "\n",
    "# Subset on locations that contain Distrito Federal\n",
    "state_filter = df1['place_with_parent_names'].str.contains('Distrito Federal')\n",
    "\n",
    "# Apply the filters\n",
    "df1 = df1[apt_filter & state_filter]"
   ]
  },
  {
   "cell_type": "markdown",
   "metadata": {},
   "source": [
    "I will split the `lat-lon` column into seperate `lat` and `lon` columns. I will then drop the `lat-lon` column afterwards."
   ]
  },
  {
   "cell_type": "code",
   "execution_count": 6,
   "metadata": {},
   "outputs": [],
   "source": [
    "# Create seperate lat and lon columns and convert to float data type\n",
    "df1[['lat', 'lon']] = (\n",
    "    df1['lat-lon'].str.split(',', expand=True)\n",
    "    .astype(float)\n",
    ")\n",
    "\n",
    "# Drop lat-lon column\n",
    "df1.drop(\n",
    "    columns=['lat-lon'],\n",
    "    inplace=True\n",
    ")"
   ]
  },
  {
   "cell_type": "markdown",
   "metadata": {},
   "source": [
    "Mexico City is divided into boroughs. The `place_with_parent_names` contains the location hierarchy of each property in this order: |Borough|State|Country|.\n",
    "\n",
    "I will create a new column, `borough`, to which I will extract the borough name from the location hierarchy and drop the column containing the location hierarchy."
   ]
  },
  {
   "cell_type": "code",
   "execution_count": 7,
   "metadata": {},
   "outputs": [],
   "source": [
    "# Extract borough names\n",
    "df1['borough'] = (\n",
    "    df1['place_with_parent_names'].str\n",
    "    .split('|', expand=True)[1]\n",
    "    )\n",
    "\n",
    "# Drop place_with_parent_names column\n",
    "df1.drop(\n",
    "    columns=['place_with_parent_names'],\n",
    "    inplace=True\n",
    ")"
   ]
  },
  {
   "cell_type": "markdown",
   "metadata": {},
   "source": [
    "I will inspect the numerical columns, particularly the `price_aprox_usd` and `surface_covered_in_m2`."
   ]
  },
  {
   "cell_type": "code",
   "execution_count": 8,
   "metadata": {},
   "outputs": [
    {
     "data": {
      "text/html": [
       "<div>\n",
       "<style scoped>\n",
       "    .dataframe tbody tr th:only-of-type {\n",
       "        vertical-align: middle;\n",
       "    }\n",
       "\n",
       "    .dataframe tbody tr th {\n",
       "        vertical-align: top;\n",
       "    }\n",
       "\n",
       "    .dataframe thead th {\n",
       "        text-align: right;\n",
       "    }\n",
       "</style>\n",
       "<table border=\"1\" class=\"dataframe\">\n",
       "  <thead>\n",
       "    <tr style=\"text-align: right;\">\n",
       "      <th></th>\n",
       "      <th>price_aprox_usd</th>\n",
       "      <th>surface_covered_in_m2</th>\n",
       "    </tr>\n",
       "  </thead>\n",
       "  <tbody>\n",
       "    <tr>\n",
       "      <th>count</th>\n",
       "      <td>2.754000e+03</td>\n",
       "      <td>2624.000000</td>\n",
       "    </tr>\n",
       "    <tr>\n",
       "      <th>mean</th>\n",
       "      <td>2.154891e+05</td>\n",
       "      <td>128.730945</td>\n",
       "    </tr>\n",
       "    <tr>\n",
       "      <th>std</th>\n",
       "      <td>3.972478e+05</td>\n",
       "      <td>656.209935</td>\n",
       "    </tr>\n",
       "    <tr>\n",
       "      <th>min</th>\n",
       "      <td>7.823940e+03</td>\n",
       "      <td>0.000000</td>\n",
       "    </tr>\n",
       "    <tr>\n",
       "      <th>25%</th>\n",
       "      <td>5.133285e+04</td>\n",
       "      <td>60.000000</td>\n",
       "    </tr>\n",
       "    <tr>\n",
       "      <th>50%</th>\n",
       "      <td>9.620551e+04</td>\n",
       "      <td>80.000000</td>\n",
       "    </tr>\n",
       "    <tr>\n",
       "      <th>75%</th>\n",
       "      <td>2.046332e+05</td>\n",
       "      <td>110.000000</td>\n",
       "    </tr>\n",
       "    <tr>\n",
       "      <th>max</th>\n",
       "      <td>8.429837e+06</td>\n",
       "      <td>31840.000000</td>\n",
       "    </tr>\n",
       "  </tbody>\n",
       "</table>\n",
       "</div>"
      ],
      "text/plain": [
       "       price_aprox_usd  surface_covered_in_m2\n",
       "count     2.754000e+03            2624.000000\n",
       "mean      2.154891e+05             128.730945\n",
       "std       3.972478e+05             656.209935\n",
       "min       7.823940e+03               0.000000\n",
       "25%       5.133285e+04              60.000000\n",
       "50%       9.620551e+04              80.000000\n",
       "75%       2.046332e+05             110.000000\n",
       "max       8.429837e+06           31840.000000"
      ]
     },
     "execution_count": 8,
     "metadata": {},
     "output_type": "execute_result"
    }
   ],
   "source": [
    "# Inspect price_aprox_usd and surface_covered_in_m2 columns\n",
    "df1[['price_aprox_usd', 'surface_covered_in_m2']].describe()"
   ]
  },
  {
   "cell_type": "markdown",
   "metadata": {},
   "source": [
    "The price column shows a mean of over $200k, while the median is under $100k, indicating the presence of a few apartments with exceptionally high prices. This is highlighted by the maximum price exceeding $8 million.\n",
    "\n",
    "For the area column, the minimum value of 0 square meters is unrealistic for an apartment, while the maximum area of over 30,000 square meters is significantly larger than the 75th percentile value of 110 square meters.\n",
    "\n",
    "To address these outlier issues, I will filter for apartments priced at $150k or less and those with areas between the 10th and 90th percentiles."
   ]
  },
  {
   "cell_type": "code",
   "execution_count": 9,
   "metadata": {},
   "outputs": [],
   "source": [
    "# Defining the filters to drop outliers\n",
    "price_filter = df1['price_aprox_usd'] <= 150000\n",
    "\n",
    "area_low, area_high = df1['surface_covered_in_m2'].quantile([.1, .9])\n",
    "area_filter = df1['surface_covered_in_m2'].between(area_low, area_high)\n",
    "\n",
    "# Applying the filters\n",
    "df1 = df1[price_filter & area_filter]"
   ]
  },
  {
   "cell_type": "markdown",
   "metadata": {},
   "source": [
    "The next thing I will look at are categorical columns with low or high cardinality. Low cardinality columns are those with few unique values while the high cardinality ones with many unique values.\n",
    "\n",
    "If there's only one category in a column, it won't provide any unique information to the model. Columns where nearly every row has its own category won't help the model in identifying useful trends in the data.\n",
    "\n",
    "I will calculate the number of unique values for the categorical columns in the data."
   ]
  },
  {
   "cell_type": "code",
   "execution_count": 10,
   "metadata": {},
   "outputs": [
    {
     "data": {
      "text/plain": [
       "operation           1\n",
       "property_type       1\n",
       "currency            1\n",
       "properati_url    1508\n",
       "borough            15\n",
       "dtype: int64"
      ]
     },
     "execution_count": 10,
     "metadata": {},
     "output_type": "execute_result"
    }
   ],
   "source": [
    "# Number of unique values in each categorical columns\n",
    "df1.select_dtypes('object').nunique()"
   ]
  },
  {
   "cell_type": "markdown",
   "metadata": {},
   "source": [
    "Low cardinality columns: `operation`, `property_type`, `currency`\n",
    "\n",
    "High cardinality columns: `properati_url`\n",
    "\n",
    "I will drop these columns"
   ]
  },
  {
   "cell_type": "code",
   "execution_count": 11,
   "metadata": {},
   "outputs": [],
   "source": [
    "# Drop low and high cardinality columns\n",
    "df1.drop(\n",
    "    columns=[\n",
    "    'operation',\n",
    "    'property_type',\n",
    "    'currency',\n",
    "    'properati_url'\n",
    "    ],\n",
    "    inplace=True\n",
    ")"
   ]
  },
  {
   "cell_type": "markdown",
   "metadata": {},
   "source": [
    "It is also important to drop any columns that will constitute leakage, that is, features that were created using our target (price) which would give it access to information it's not supposed to.\n",
    "\n",
    "Example of such columns are: `price`, `price_aprox_local_currency`, `price_per_m2`, `price_usd_per_m2`(already dropped with the null values earlier)\n",
    "\n",
    "There is also the issue of multi-colinearity. Multicollinearity happens when two or more features in a dataset are too closely related. This makes it hard for the model to know which one matters more. Example of such columns are: `surface_area_total_in_m2` and  `rooms`, as they will be positively correlated with `surface_covered_in_m2`.\n",
    "\n",
    "Though these columns were aleady dropped with the null values earlier.\n",
    "\n"
   ]
  },
  {
   "cell_type": "code",
   "execution_count": 12,
   "metadata": {},
   "outputs": [],
   "source": [
    "# Drop leaky columns\n",
    "df1.drop(\n",
    "    columns = [\n",
    "        'price',\n",
    "        'price_aprox_local_currency',\n",
    "        'price_per_m2'\n",
    "    ],\n",
    "    inplace=True\n",
    ")"
   ]
  },
  {
   "cell_type": "markdown",
   "metadata": {},
   "source": [
    "There is still one column that should be dropped as it is not necessary for this project: `Unnamed: 0`."
   ]
  },
  {
   "cell_type": "code",
   "execution_count": 13,
   "metadata": {},
   "outputs": [],
   "source": [
    "# Drop unnecessary column\n",
    "df1.drop(columns=['Unnamed: 0'], inplace=True)"
   ]
  },
  {
   "cell_type": "markdown",
   "metadata": {},
   "source": [
    "Now that I'm done preprocessing the data, I will rename the columns appropriately"
   ]
  },
  {
   "cell_type": "code",
   "execution_count": 14,
   "metadata": {},
   "outputs": [],
   "source": [
    "# Rename the remaining columns appropriately\n",
    "rename_dict = {\n",
    "    'price_aprox_usd': 'price_usd',\n",
    "    'surface_covered_in_m2': 'surface_area_m2',\n",
    "    'lat': 'lat',\n",
    "    'lon': 'lon',\n",
    "    'borough': 'borough'\n",
    "}\n",
    "\n",
    "df1.rename(columns= rename_dict, inplace= True)"
   ]
  },
  {
   "cell_type": "markdown",
   "metadata": {},
   "source": [
    "To apply these preprocessing steps on the other csv files, I will build a `wrangle` function which will include all those steps."
   ]
  },
  {
   "cell_type": "code",
   "execution_count": 15,
   "metadata": {},
   "outputs": [],
   "source": [
    "# Defining the wrangle function\n",
    "def wrangle(filepath):\n",
    "    # Read in data\n",
    "    df = pd.read_csv(filepath)\n",
    "\n",
    "    # Drop columns with >= 50% nulls\n",
    "    df.drop(columns=['surface_total_in_m2',\n",
    "                  'price_usd_per_m2',\n",
    "                  'floor',\n",
    "                  'rooms',\n",
    "                  'expenses'\n",
    "                  ],\n",
    "            inplace=True)\n",
    "    \n",
    "    # Subset on properties that are apartments\n",
    "    apt_filter = df['property_type'] == 'apartment'\n",
    "\n",
    "    # Subset on locations that contain Distrito Federal\n",
    "    state_filter = df['place_with_parent_names'].str.contains('Distrito Federal')\n",
    "\n",
    "    # Apply the filters\n",
    "    df = df[apt_filter & state_filter]\n",
    "\n",
    "    # Create seperate lat and lon columns and convert to float data type\n",
    "    df[['lat', 'lon']] = (\n",
    "        df['lat-lon'].str.split(',', expand=True)\n",
    "        .astype(float)\n",
    "        )\n",
    "    # Drop lat-lon column\n",
    "    df.drop(\n",
    "        columns=['lat-lon'],\n",
    "        inplace=True\n",
    "        )\n",
    "    \n",
    "    # Extract borough names\n",
    "    df['borough'] = (\n",
    "        df['place_with_parent_names'].str\n",
    "        .split('|', expand=True)[1]\n",
    "        )\n",
    "    # Drop place_with_parent_names column\n",
    "    df.drop(\n",
    "        columns=['place_with_parent_names'],\n",
    "        inplace=True\n",
    "        )\n",
    "    # Defining the filters to drop outliers\n",
    "    price_filter = df['price_aprox_usd'] <= 150000\n",
    "\n",
    "    area_low, area_high = df['surface_covered_in_m2'].quantile([.1, .9])\n",
    "    area_filter = df['surface_covered_in_m2'].between(area_low, area_high)\n",
    "\n",
    "    # Applying the filters\n",
    "    df = df[price_filter & area_filter]\n",
    "    \n",
    "    # Drop low and high cardinality columns\n",
    "    df.drop(\n",
    "        columns=[\n",
    "            'operation',\n",
    "            'property_type',\n",
    "            'currency',\n",
    "            'properati_url'\n",
    "            ],\n",
    "        inplace=True\n",
    "        )\n",
    "    \n",
    "    # Drop leaky columns\n",
    "    df.drop(\n",
    "        columns = [\n",
    "            'price',\n",
    "            'price_aprox_local_currency',\n",
    "            'price_per_m2'\n",
    "            ],\n",
    "        inplace=True\n",
    "        )\n",
    "    \n",
    "    # Drop unnecessary column\n",
    "    df.drop(columns=['Unnamed: 0'], inplace=True)\n",
    "\n",
    "    # Rename the remaining columns appropriately\n",
    "    rename_dict = {\n",
    "        'price_aprox_usd': 'price_usd',\n",
    "        'surface_covered_in_m2': 'surface_area_m2',\n",
    "        'lat': 'lat',\n",
    "        'lon': 'lon',\n",
    "        'borough': 'borough'\n",
    "        }\n",
    "    df.rename(columns= rename_dict, inplace= True)\n",
    "\n",
    "    # Return the result\n",
    "    return df"
   ]
  },
  {
   "cell_type": "markdown",
   "metadata": {},
   "source": [
    "Since there are csv multiple files i want to use to build the model, and they follow the same pattern, I will use glob to create a list containing all the csv files"
   ]
  },
  {
   "cell_type": "code",
   "execution_count": 16,
   "metadata": {},
   "outputs": [
    {
     "data": {
      "text/plain": [
       "['/workspaces/Predicting-Apartment-Prices-in-Mexico-City/mexico-city-real-estate-3.csv',\n",
       " '/workspaces/Predicting-Apartment-Prices-in-Mexico-City/mexico-city-real-estate-2.csv',\n",
       " '/workspaces/Predicting-Apartment-Prices-in-Mexico-City/mexico-city-real-estate-5.csv',\n",
       " '/workspaces/Predicting-Apartment-Prices-in-Mexico-City/mexico-city-real-estate-4.csv',\n",
       " '/workspaces/Predicting-Apartment-Prices-in-Mexico-City/mexico-city-real-estate-1.csv']"
      ]
     },
     "execution_count": 16,
     "metadata": {},
     "output_type": "execute_result"
    }
   ],
   "source": [
    "# Create list of files with glob\n",
    "files = glob('/workspaces/Predicting-Apartment-Prices-in-Mexico-City/mexico-city-real-estate-*.csv')\n",
    "files"
   ]
  },
  {
   "cell_type": "markdown",
   "metadata": {},
   "source": [
    "\n",
    "Now that I have all the files, I will use a list comprehension to apply the `wrangle` function to each file, then combine them into one DataFrame with `pd.concat()`."
   ]
  },
  {
   "cell_type": "code",
   "execution_count": 17,
   "metadata": {},
   "outputs": [
    {
     "data": {
      "text/html": [
       "<div>\n",
       "<style scoped>\n",
       "    .dataframe tbody tr th:only-of-type {\n",
       "        vertical-align: middle;\n",
       "    }\n",
       "\n",
       "    .dataframe tbody tr th {\n",
       "        vertical-align: top;\n",
       "    }\n",
       "\n",
       "    .dataframe thead th {\n",
       "        text-align: right;\n",
       "    }\n",
       "</style>\n",
       "<table border=\"1\" class=\"dataframe\">\n",
       "  <thead>\n",
       "    <tr style=\"text-align: right;\">\n",
       "      <th></th>\n",
       "      <th>price_usd</th>\n",
       "      <th>surface_area_m2</th>\n",
       "      <th>lat</th>\n",
       "      <th>lon</th>\n",
       "      <th>borough</th>\n",
       "    </tr>\n",
       "  </thead>\n",
       "  <tbody>\n",
       "    <tr>\n",
       "      <th>0</th>\n",
       "      <td>29315.91</td>\n",
       "      <td>65.0</td>\n",
       "      <td>19.401350</td>\n",
       "      <td>-99.114726</td>\n",
       "      <td>Iztacalco</td>\n",
       "    </tr>\n",
       "    <tr>\n",
       "      <th>1</th>\n",
       "      <td>70801.04</td>\n",
       "      <td>80.0</td>\n",
       "      <td>19.484703</td>\n",
       "      <td>-99.211365</td>\n",
       "      <td>Azcapotzalco</td>\n",
       "    </tr>\n",
       "    <tr>\n",
       "      <th>2</th>\n",
       "      <td>72250.71</td>\n",
       "      <td>60.0</td>\n",
       "      <td>19.403504</td>\n",
       "      <td>-99.154502</td>\n",
       "      <td>Benito Juárez</td>\n",
       "    </tr>\n",
       "    <tr>\n",
       "      <th>3</th>\n",
       "      <td>131768.89</td>\n",
       "      <td>87.0</td>\n",
       "      <td>19.434723</td>\n",
       "      <td>-99.175887</td>\n",
       "      <td>Miguel Hidalgo</td>\n",
       "    </tr>\n",
       "    <tr>\n",
       "      <th>4</th>\n",
       "      <td>68492.42</td>\n",
       "      <td>70.0</td>\n",
       "      <td>19.364993</td>\n",
       "      <td>-99.155739</td>\n",
       "      <td>Benito Juárez</td>\n",
       "    </tr>\n",
       "  </tbody>\n",
       "</table>\n",
       "</div>"
      ],
      "text/plain": [
       "   price_usd  surface_area_m2        lat        lon         borough\n",
       "0   29315.91             65.0  19.401350 -99.114726       Iztacalco\n",
       "1   70801.04             80.0  19.484703 -99.211365    Azcapotzalco\n",
       "2   72250.71             60.0  19.403504 -99.154502   Benito Juárez\n",
       "3  131768.89             87.0  19.434723 -99.175887  Miguel Hidalgo\n",
       "4   68492.42             70.0  19.364993 -99.155739   Benito Juárez"
      ]
     },
     "metadata": {},
     "output_type": "display_data"
    },
    {
     "name": "stdout",
     "output_type": "stream",
     "text": [
      "<class 'pandas.core.frame.DataFrame'>\n",
      "RangeIndex: 7313 entries, 0 to 7312\n",
      "Data columns (total 5 columns):\n",
      " #   Column           Non-Null Count  Dtype  \n",
      "---  ------           --------------  -----  \n",
      " 0   price_usd        7313 non-null   float64\n",
      " 1   surface_area_m2  7313 non-null   float64\n",
      " 2   lat              6894 non-null   float64\n",
      " 3   lon              6894 non-null   float64\n",
      " 4   borough          7313 non-null   object \n",
      "dtypes: float64(4), object(1)\n",
      "memory usage: 285.8+ KB\n"
     ]
    },
    {
     "data": {
      "text/plain": [
       "None"
      ]
     },
     "metadata": {},
     "output_type": "display_data"
    }
   ],
   "source": [
    "# Apply the wrangle function to all files in the list with a list comprehension\n",
    "# Concatenate the result\n",
    "# Inspect the result\n",
    "df = pd.concat(\n",
    "    [wrangle(file) for file in files],\n",
    "    ignore_index=True\n",
    ")\n",
    "\n",
    "display(df.head())\n",
    "display(df.info())"
   ]
  },
  {
   "cell_type": "markdown",
   "metadata": {},
   "source": [
    "## Explore"
   ]
  },
  {
   "cell_type": "markdown",
   "metadata": {},
   "source": [
    "I will create a histogram showing the distribution of apartment prices."
   ]
  },
  {
   "cell_type": "code",
   "execution_count": 18,
   "metadata": {},
   "outputs": [
    {
     "data": {
      "image/png": "[encoded data removed]",
      "text/plain": [
       "<Figure size 640x480 with 1 Axes>"
      ]
     },
     "metadata": {},
     "output_type": "display_data"
    }
   ],
   "source": [
    "# Build histogram\n",
    "plt.hist(x=df['price_usd'])\n",
    "\n",
    "# Label axes\n",
    "plt.xlabel('Price [$]')\n",
    "plt.ylabel('Count')\n",
    "\n",
    "# Add title\n",
    "plt.title('Distribution of Apartment Prices in Mexico City');"
   ]
  },
  {
   "cell_type": "markdown",
   "metadata": {},
   "source": [
    "The distribution of price is right-skewed."
   ]
  },
  {
   "cell_type": "markdown",
   "metadata": {},
   "source": [
    "I will create a scatter plot that shows apartment price as a function of apartment size."
   ]
  },
  {
   "cell_type": "code",
   "execution_count": 19,
   "metadata": {},
   "outputs": [
    {
     "data": {
      "image/png": "[encoded data removed]",
      "text/plain": [
       "<Figure size 640x480 with 1 Axes>"
      ]
     },
     "metadata": {},
     "output_type": "display_data"
    }
   ],
   "source": [
    "# Build scatter plot\n",
    "plt.scatter(\n",
    "    x=df['surface_area_m2'],\n",
    "    y=df['price_usd']\n",
    ")\n",
    "\n",
    "# Label axes\n",
    "plt.xlabel('Area [sq meters]')\n",
    "plt.ylabel('Price [USD]')\n",
    "\n",
    "# Add title\n",
    "plt.title('Mexico City: Price vs Area');"
   ]
  },
  {
   "cell_type": "markdown",
   "metadata": {},
   "source": [
    "There's no obvious relationship between price and area."
   ]
  },
  {
   "cell_type": "markdown",
   "metadata": {},
   "source": [
    "## Splitting Data"
   ]
  },
  {
   "cell_type": "markdown",
   "metadata": {},
   "source": [
    "I will now create the feature and target arrays. The target is what I want to predict, and the features are what I'll use to make the prediction.\n",
    "\n",
    "features `X`: `surface_area_m2`, `lat`, `lon`, `borough`\n",
    "\n",
    "target `y`: `price_usd`"
   ]
  },
  {
   "cell_type": "code",
   "execution_count": 20,
   "metadata": {},
   "outputs": [],
   "source": [
    "# Create feature and target arrays\n",
    "X = df.drop(\"price_usd\", axis=1).values\n",
    "y = df[\"price_usd\"].values"
   ]
  },
  {
   "cell_type": "markdown",
   "metadata": {},
   "source": [
    "I will now split the data into training set and test set with `train_test_split`. 30% of the data will be used as test set"
   ]
  },
  {
   "cell_type": "code",
   "execution_count": 21,
   "metadata": {},
   "outputs": [],
   "source": [
    "# Split data into training set and test set\n",
    "X_train, X_test, y_train, y_test = train_test_split(X, y, test_size=0.3, random_state=2)\n"
   ]
  },
  {
   "cell_type": "markdown",
   "metadata": {},
   "source": [
    "## Build Model"
   ]
  },
  {
   "cell_type": "markdown",
   "metadata": {},
   "source": [
    "### Baseline"
   ]
  },
  {
   "cell_type": "markdown",
   "metadata": {},
   "source": [
    "\n",
    "The first step in building a model is baselining, which involves making the same simple prediction for all apartments, regardless of size or location. In this case, the prediction will be the average price.\n",
    "\n",
    "I will apply this prediction to each observation in the training set."
   ]
  },
  {
   "cell_type": "code",
   "execution_count": 22,
   "metadata": {},
   "outputs": [
    {
     "name": "stdout",
     "output_type": "stream",
     "text": [
      "69699.70015823403\n",
      "[np.float64(69699.70015823403), np.float64(69699.70015823403), np.float64(69699.70015823403), np.float64(69699.70015823403), np.float64(69699.70015823403)]\n"
     ]
    }
   ],
   "source": [
    "# Calculate mean of the target array, price\n",
    "y_mean = y_train.mean()\n",
    "\n",
    "# Generate the mean for each observation\n",
    "y_pred_baseline = [y_mean] * len(y_train)\n",
    "\n",
    "print(y_mean)\n",
    "print(y_pred_baseline[:5])"
   ]
  },
  {
   "cell_type": "markdown",
   "metadata": {},
   "source": [
    "I will use a performance metric to measure how well this baseline model performs. In this case I will use the mean absolute error.\n",
    "\n",
    "Mean Absolute Error(mae) measures errors and show how far off the prediction they are."
   ]
  },
  {
   "cell_type": "code",
   "execution_count": 23,
   "metadata": {},
   "outputs": [
    {
     "name": "stdout",
     "output_type": "stream",
     "text": [
      "Mean Apartment Price: 69700\n",
      "Baseline MAE: 27912\n"
     ]
    }
   ],
   "source": [
    "# Fine the baseline mean absolute error\n",
    "mae_baseline = mean_absolute_error(y_train, y_pred_baseline)\n",
    "\n",
    "print(\"Mean Apartment Price:\", round(y_mean))\n",
    "print(\"Baseline MAE:\", round(mae_baseline))\n"
   ]
  },
  {
   "cell_type": "markdown",
   "metadata": {},
   "source": [
    "This tells us that if we always predicted an apartment price of $69,700, our predictions would be off by an average of $27,912.\n",
    "\n",
    "It also tells us that our model needs to have a mean absolute error below $27,912 in order to be useful."
   ]
  },
  {
   "cell_type": "markdown",
   "metadata": {},
   "source": [
    "### Iterate"
   ]
  },
  {
   "cell_type": "markdown",
   "metadata": {},
   "source": [
    "The next step is iterating – building, training, and evaluating the model repeatedly until the performance improves. Since our target is numeric, we’ll use Linear Regression to predict by fitting a straight line to the data.\n",
    "\n",
    "First, we need to handle missing values because Linear Regression can’t process them. We’ll use imputation to fill the gaps with values from the column using `SimpleImputer` from scikit-learn.\n",
    "\n",
    "Our data also has non-numeric values (`borough`), but Linear Regression only works with numbers. We’ll convert these using `OneHotEncoder`. If needed, install it with:\n",
    "\n",
    "```python\n",
    "pip install category-encoders\n",
    "```\n",
    "To simplify the process, I’ll combine the transformations and the model into a pipeline called model, including:\n",
    "\n",
    "- OneHotEncoder\n",
    "- SimpleImputer\n",
    "- LinearRegression"
   ]
  },
  {
   "cell_type": "code",
   "execution_count": 24,
   "metadata": {},
   "outputs": [
    {
     "name": "stderr",
     "output_type": "stream",
     "text": [
      "/home/codespace/.local/lib/python3.12/site-packages/sklearn/base.py:411: FutureWarning: The `_get_tags` method is deprecated in 1.6 and will be removed in 1.7. Please implement the `__sklearn_tags__` method.\n",
      "  warnings.warn(\n",
      "/home/codespace/.local/lib/python3.12/site-packages/sklearn/base.py:411: FutureWarning: The `_get_tags` method is deprecated in 1.6 and will be removed in 1.7. Please implement the `__sklearn_tags__` method.\n",
      "  warnings.warn(\n"
     ]
    },
    {
     "data": {
      "text/html": [
       "<style>#sk-container-id-1 {\n",
       "  /* Definition of color scheme common for light and dark mode */\n",
       "  --sklearn-color-text: #000;\n",
       "  --sklearn-color-text-muted: #666;\n",
       "  --sklearn-color-line: gray;\n",
       "  /* Definition of color scheme for unfitted estimators */\n",
       "  --sklearn-color-unfitted-level-0: #fff5e6;\n",
       "  --sklearn-color-unfitted-level-1: #f6e4d2;\n",
       "  --sklearn-color-unfitted-level-2: #ffe0b3;\n",
       "  --sklearn-color-unfitted-level-3: chocolate;\n",
       "  /* Definition of color scheme for fitted estimators */\n",
       "  --sklearn-color-fitted-level-0: #f0f8ff;\n",
       "  --sklearn-color-fitted-level-1: #d4ebff;\n",
       "  --sklearn-color-fitted-level-2: #b3dbfd;\n",
       "  --sklearn-color-fitted-level-3: cornflowerblue;\n",
       "\n",
       "  /* Specific color for light theme */\n",
       "  --sklearn-color-text-on-default-background: var(--sg-text-color, var(--theme-code-foreground, var(--jp-content-font-color1, black)));\n",
       "  --sklearn-color-background: var(--sg-background-color, var(--theme-background, var(--jp-layout-color0, white)));\n",
       "  --sklearn-color-border-box: var(--sg-text-color, var(--theme-code-foreground, var(--jp-content-font-color1, black)));\n",
       "  --sklearn-color-icon: #696969;\n",
       "\n",
       "  @media (prefers-color-scheme: dark) {\n",
       "    /* Redefinition of color scheme for dark theme */\n",
       "    --sklearn-color-text-on-default-background: var(--sg-text-color, var(--theme-code-foreground, var(--jp-content-font-color1, white)));\n",
       "    --sklearn-color-background: var(--sg-background-color, var(--theme-background, var(--jp-layout-color0, #111)));\n",
       "    --sklearn-color-border-box: var(--sg-text-color, var(--theme-code-foreground, var(--jp-content-font-color1, white)));\n",
       "    --sklearn-color-icon: #878787;\n",
       "  }\n",
       "}\n",
       "\n",
       "#sk-container-id-1 {\n",
       "  color: var(--sklearn-color-text);\n",
       "}\n",
       "\n",
       "#sk-container-id-1 pre {\n",
       "  padding: 0;\n",
       "}\n",
       "\n",
       "#sk-container-id-1 input.sk-hidden--visually {\n",
       "  border: 0;\n",
       "  clip: rect(1px 1px 1px 1px);\n",
       "  clip: rect(1px, 1px, 1px, 1px);\n",
       "  height: 1px;\n",
       "  margin: -1px;\n",
       "  overflow: hidden;\n",
       "  padding: 0;\n",
       "  position: absolute;\n",
       "  width: 1px;\n",
       "}\n",
       "\n",
       "#sk-container-id-1 div.sk-dashed-wrapped {\n",
       "  border: 1px dashed var(--sklearn-color-line);\n",
       "  margin: 0 0.4em 0.5em 0.4em;\n",
       "  box-sizing: border-box;\n",
       "  padding-bottom: 0.4em;\n",
       "  background-color: var(--sklearn-color-background);\n",
       "}\n",
       "\n",
       "#sk-container-id-1 div.sk-container {\n",
       "  /* jupyter's `normalize.less` sets `[hidden] { display: none; }`\n",
       "     but bootstrap.min.css set `[hidden] { display: none !important; }`\n",
       "     so we also need the `!important` here to be able to override the\n",
       "     default hidden behavior on the sphinx rendered scikit-learn.org.\n",
       "     See: https://github.com/scikit-learn/scikit-learn/issues/21755 */\n",
       "  display: inline-block !important;\n",
       "  position: relative;\n",
       "}\n",
       "\n",
       "#sk-container-id-1 div.sk-text-repr-fallback {\n",
       "  display: none;\n",
       "}\n",
       "\n",
       "div.sk-parallel-item,\n",
       "div.sk-serial,\n",
       "div.sk-item {\n",
       "  /* draw centered vertical line to link estimators */\n",
       "  background-image: linear-gradient(var(--sklearn-color-text-on-default-background), var(--sklearn-color-text-on-default-background));\n",
       "  background-size: 2px 100%;\n",
       "  background-repeat: no-repeat;\n",
       "  background-position: center center;\n",
       "}\n",
       "\n",
       "/* Parallel-specific style estimator block */\n",
       "\n",
       "#sk-container-id-1 div.sk-parallel-item::after {\n",
       "  content: \"\";\n",
       "  width: 100%;\n",
       "  border-bottom: 2px solid var(--sklearn-color-text-on-default-background);\n",
       "  flex-grow: 1;\n",
       "}\n",
       "\n",
       "#sk-container-id-1 div.sk-parallel {\n",
       "  display: flex;\n",
       "  align-items: stretch;\n",
       "  justify-content: center;\n",
       "  background-color: var(--sklearn-color-background);\n",
       "  position: relative;\n",
       "}\n",
       "\n",
       "#sk-container-id-1 div.sk-parallel-item {\n",
       "  display: flex;\n",
       "  flex-direction: column;\n",
       "}\n",
       "\n",
       "#sk-container-id-1 div.sk-parallel-item:first-child::after {\n",
       "  align-self: flex-end;\n",
       "  width: 50%;\n",
       "}\n",
       "\n",
       "#sk-container-id-1 div.sk-parallel-item:last-child::after {\n",
       "  align-self: flex-start;\n",
       "  width: 50%;\n",
       "}\n",
       "\n",
       "#sk-container-id-1 div.sk-parallel-item:only-child::after {\n",
       "  width: 0;\n",
       "}\n",
       "\n",
       "/* Serial-specific style estimator block */\n",
       "\n",
       "#sk-container-id-1 div.sk-serial {\n",
       "  display: flex;\n",
       "  flex-direction: column;\n",
       "  align-items: center;\n",
       "  background-color: var(--sklearn-color-background);\n",
       "  padding-right: 1em;\n",
       "  padding-left: 1em;\n",
       "}\n",
       "\n",
       "\n",
       "/* Toggleable style: style used for estimator/Pipeline/ColumnTransformer box that is\n",
       "clickable and can be expanded/collapsed.\n",
       "- Pipeline and ColumnTransformer use this feature and define the default style\n",
       "- Estimators will overwrite some part of the style using the `sk-estimator` class\n",
       "*/\n",
       "\n",
       "/* Pipeline and ColumnTransformer style (default) */\n",
       "\n",
       "#sk-container-id-1 div.sk-toggleable {\n",
       "  /* Default theme specific background. It is overwritten whether we have a\n",
       "  specific estimator or a Pipeline/ColumnTransformer */\n",
       "  background-color: var(--sklearn-color-background);\n",
       "}\n",
       "\n",
       "/* Toggleable label */\n",
       "#sk-container-id-1 label.sk-toggleable__label {\n",
       "  cursor: pointer;\n",
       "  display: flex;\n",
       "  width: 100%;\n",
       "  margin-bottom: 0;\n",
       "  padding: 0.5em;\n",
       "  box-sizing: border-box;\n",
       "  text-align: center;\n",
       "  align-items: start;\n",
       "  justify-content: space-between;\n",
       "  gap: 0.5em;\n",
       "}\n",
       "\n",
       "#sk-container-id-1 label.sk-toggleable__label .caption {\n",
       "  font-size: 0.6rem;\n",
       "  font-weight: lighter;\n",
       "  color: var(--sklearn-color-text-muted);\n",
       "}\n",
       "\n",
       "#sk-container-id-1 label.sk-toggleable__label-arrow:before {\n",
       "  /* Arrow on the left of the label */\n",
       "  content: \"▸\";\n",
       "  float: left;\n",
       "  margin-right: 0.25em;\n",
       "  color: var(--sklearn-color-icon);\n",
       "}\n",
       "\n",
       "#sk-container-id-1 label.sk-toggleable__label-arrow:hover:before {\n",
       "  color: var(--sklearn-color-text);\n",
       "}\n",
       "\n",
       "/* Toggleable content - dropdown */\n",
       "\n",
       "#sk-container-id-1 div.sk-toggleable__content {\n",
       "  max-height: 0;\n",
       "  max-width: 0;\n",
       "  overflow: hidden;\n",
       "  text-align: left;\n",
       "  /* unfitted */\n",
       "  background-color: var(--sklearn-color-unfitted-level-0);\n",
       "}\n",
       "\n",
       "#sk-container-id-1 div.sk-toggleable__content.fitted {\n",
       "  /* fitted */\n",
       "  background-color: var(--sklearn-color-fitted-level-0);\n",
       "}\n",
       "\n",
       "#sk-container-id-1 div.sk-toggleable__content pre {\n",
       "  margin: 0.2em;\n",
       "  border-radius: 0.25em;\n",
       "  color: var(--sklearn-color-text);\n",
       "  /* unfitted */\n",
       "  background-color: var(--sklearn-color-unfitted-level-0);\n",
       "}\n",
       "\n",
       "#sk-container-id-1 div.sk-toggleable__content.fitted pre {\n",
       "  /* unfitted */\n",
       "  background-color: var(--sklearn-color-fitted-level-0);\n",
       "}\n",
       "\n",
       "#sk-container-id-1 input.sk-toggleable__control:checked~div.sk-toggleable__content {\n",
       "  /* Expand drop-down */\n",
       "  max-height: 200px;\n",
       "  max-width: 100%;\n",
       "  overflow: auto;\n",
       "}\n",
       "\n",
       "#sk-container-id-1 input.sk-toggleable__control:checked~label.sk-toggleable__label-arrow:before {\n",
       "  content: \"▾\";\n",
       "}\n",
       "\n",
       "/* Pipeline/ColumnTransformer-specific style */\n",
       "\n",
       "#sk-container-id-1 div.sk-label input.sk-toggleable__control:checked~label.sk-toggleable__label {\n",
       "  color: var(--sklearn-color-text);\n",
       "  background-color: var(--sklearn-color-unfitted-level-2);\n",
       "}\n",
       "\n",
       "#sk-container-id-1 div.sk-label.fitted input.sk-toggleable__control:checked~label.sk-toggleable__label {\n",
       "  background-color: var(--sklearn-color-fitted-level-2);\n",
       "}\n",
       "\n",
       "/* Estimator-specific style */\n",
       "\n",
       "/* Colorize estimator box */\n",
       "#sk-container-id-1 div.sk-estimator input.sk-toggleable__control:checked~label.sk-toggleable__label {\n",
       "  /* unfitted */\n",
       "  background-color: var(--sklearn-color-unfitted-level-2);\n",
       "}\n",
       "\n",
       "#sk-container-id-1 div.sk-estimator.fitted input.sk-toggleable__control:checked~label.sk-toggleable__label {\n",
       "  /* fitted */\n",
       "  background-color: var(--sklearn-color-fitted-level-2);\n",
       "}\n",
       "\n",
       "#sk-container-id-1 div.sk-label label.sk-toggleable__label,\n",
       "#sk-container-id-1 div.sk-label label {\n",
       "  /* The background is the default theme color */\n",
       "  color: var(--sklearn-color-text-on-default-background);\n",
       "}\n",
       "\n",
       "/* On hover, darken the color of the background */\n",
       "#sk-container-id-1 div.sk-label:hover label.sk-toggleable__label {\n",
       "  color: var(--sklearn-color-text);\n",
       "  background-color: var(--sklearn-color-unfitted-level-2);\n",
       "}\n",
       "\n",
       "/* Label box, darken color on hover, fitted */\n",
       "#sk-container-id-1 div.sk-label.fitted:hover label.sk-toggleable__label.fitted {\n",
       "  color: var(--sklearn-color-text);\n",
       "  background-color: var(--sklearn-color-fitted-level-2);\n",
       "}\n",
       "\n",
       "/* Estimator label */\n",
       "\n",
       "#sk-container-id-1 div.sk-label label {\n",
       "  font-family: monospace;\n",
       "  font-weight: bold;\n",
       "  display: inline-block;\n",
       "  line-height: 1.2em;\n",
       "}\n",
       "\n",
       "#sk-container-id-1 div.sk-label-container {\n",
       "  text-align: center;\n",
       "}\n",
       "\n",
       "/* Estimator-specific */\n",
       "#sk-container-id-1 div.sk-estimator {\n",
       "  font-family: monospace;\n",
       "  border: 1px dotted var(--sklearn-color-border-box);\n",
       "  border-radius: 0.25em;\n",
       "  box-sizing: border-box;\n",
       "  margin-bottom: 0.5em;\n",
       "  /* unfitted */\n",
       "  background-color: var(--sklearn-color-unfitted-level-0);\n",
       "}\n",
       "\n",
       "#sk-container-id-1 div.sk-estimator.fitted {\n",
       "  /* fitted */\n",
       "  background-color: var(--sklearn-color-fitted-level-0);\n",
       "}\n",
       "\n",
       "/* on hover */\n",
       "#sk-container-id-1 div.sk-estimator:hover {\n",
       "  /* unfitted */\n",
       "  background-color: var(--sklearn-color-unfitted-level-2);\n",
       "}\n",
       "\n",
       "#sk-container-id-1 div.sk-estimator.fitted:hover {\n",
       "  /* fitted */\n",
       "  background-color: var(--sklearn-color-fitted-level-2);\n",
       "}\n",
       "\n",
       "/* Specification for estimator info (e.g. \"i\" and \"?\") */\n",
       "\n",
       "/* Common style for \"i\" and \"?\" */\n",
       "\n",
       ".sk-estimator-doc-link,\n",
       "a:link.sk-estimator-doc-link,\n",
       "a:visited.sk-estimator-doc-link {\n",
       "  float: right;\n",
       "  font-size: smaller;\n",
       "  line-height: 1em;\n",
       "  font-family: monospace;\n",
       "  background-color: var(--sklearn-color-background);\n",
       "  border-radius: 1em;\n",
       "  height: 1em;\n",
       "  width: 1em;\n",
       "  text-decoration: none !important;\n",
       "  margin-left: 0.5em;\n",
       "  text-align: center;\n",
       "  /* unfitted */\n",
       "  border: var(--sklearn-color-unfitted-level-1) 1pt solid;\n",
       "  color: var(--sklearn-color-unfitted-level-1);\n",
       "}\n",
       "\n",
       ".sk-estimator-doc-link.fitted,\n",
       "a:link.sk-estimator-doc-link.fitted,\n",
       "a:visited.sk-estimator-doc-link.fitted {\n",
       "  /* fitted */\n",
       "  border: var(--sklearn-color-fitted-level-1) 1pt solid;\n",
       "  color: var(--sklearn-color-fitted-level-1);\n",
       "}\n",
       "\n",
       "/* On hover */\n",
       "div.sk-estimator:hover .sk-estimator-doc-link:hover,\n",
       ".sk-estimator-doc-link:hover,\n",
       "div.sk-label-container:hover .sk-estimator-doc-link:hover,\n",
       ".sk-estimator-doc-link:hover {\n",
       "  /* unfitted */\n",
       "  background-color: var(--sklearn-color-unfitted-level-3);\n",
       "  color: var(--sklearn-color-background);\n",
       "  text-decoration: none;\n",
       "}\n",
       "\n",
       "div.sk-estimator.fitted:hover .sk-estimator-doc-link.fitted:hover,\n",
       ".sk-estimator-doc-link.fitted:hover,\n",
       "div.sk-label-container:hover .sk-estimator-doc-link.fitted:hover,\n",
       ".sk-estimator-doc-link.fitted:hover {\n",
       "  /* fitted */\n",
       "  background-color: var(--sklearn-color-fitted-level-3);\n",
       "  color: var(--sklearn-color-background);\n",
       "  text-decoration: none;\n",
       "}\n",
       "\n",
       "/* Span, style for the box shown on hovering the info icon */\n",
       ".sk-estimator-doc-link span {\n",
       "  display: none;\n",
       "  z-index: 9999;\n",
       "  position: relative;\n",
       "  font-weight: normal;\n",
       "  right: .2ex;\n",
       "  padding: .5ex;\n",
       "  margin: .5ex;\n",
       "  width: min-content;\n",
       "  min-width: 20ex;\n",
       "  max-width: 50ex;\n",
       "  color: var(--sklearn-color-text);\n",
       "  box-shadow: 2pt 2pt 4pt #999;\n",
       "  /* unfitted */\n",
       "  background: var(--sklearn-color-unfitted-level-0);\n",
       "  border: .5pt solid var(--sklearn-color-unfitted-level-3);\n",
       "}\n",
       "\n",
       ".sk-estimator-doc-link.fitted span {\n",
       "  /* fitted */\n",
       "  background: var(--sklearn-color-fitted-level-0);\n",
       "  border: var(--sklearn-color-fitted-level-3);\n",
       "}\n",
       "\n",
       ".sk-estimator-doc-link:hover span {\n",
       "  display: block;\n",
       "}\n",
       "\n",
       "/* \"?\"-specific style due to the `<a>` HTML tag */\n",
       "\n",
       "#sk-container-id-1 a.estimator_doc_link {\n",
       "  float: right;\n",
       "  font-size: 1rem;\n",
       "  line-height: 1em;\n",
       "  font-family: monospace;\n",
       "  background-color: var(--sklearn-color-background);\n",
       "  border-radius: 1rem;\n",
       "  height: 1rem;\n",
       "  width: 1rem;\n",
       "  text-decoration: none;\n",
       "  /* unfitted */\n",
       "  color: var(--sklearn-color-unfitted-level-1);\n",
       "  border: var(--sklearn-color-unfitted-level-1) 1pt solid;\n",
       "}\n",
       "\n",
       "#sk-container-id-1 a.estimator_doc_link.fitted {\n",
       "  /* fitted */\n",
       "  border: var(--sklearn-color-fitted-level-1) 1pt solid;\n",
       "  color: var(--sklearn-color-fitted-level-1);\n",
       "}\n",
       "\n",
       "/* On hover */\n",
       "#sk-container-id-1 a.estimator_doc_link:hover {\n",
       "  /* unfitted */\n",
       "  background-color: var(--sklearn-color-unfitted-level-3);\n",
       "  color: var(--sklearn-color-background);\n",
       "  text-decoration: none;\n",
       "}\n",
       "\n",
       "#sk-container-id-1 a.estimator_doc_link.fitted:hover {\n",
       "  /* fitted */\n",
       "  background-color: var(--sklearn-color-fitted-level-3);\n",
       "}\n",
       "</style><div id=\"sk-container-id-1\" class=\"sk-top-container\"><div class=\"sk-text-repr-fallback\"><pre>Pipeline(steps=[(&#x27;onehotencoder&#x27;,\n",
       "                 OneHotEncoder(cols=[0, 1, 2, 3], use_cat_names=True)),\n",
       "                (&#x27;simpleimputer&#x27;, SimpleImputer()),\n",
       "                (&#x27;linearregression&#x27;, LinearRegression())])</pre><b>In a Jupyter environment, please rerun this cell to show the HTML representation or trust the notebook. <br />On GitHub, the HTML representation is unable to render, please try loading this page with nbviewer.org.</b></div><div class=\"sk-container\" hidden><div class=\"sk-item sk-dashed-wrapped\"><div class=\"sk-label-container\"><div class=\"sk-label fitted sk-toggleable\"><input class=\"sk-toggleable__control sk-hidden--visually\" id=\"sk-estimator-id-1\" type=\"checkbox\" ><label for=\"sk-estimator-id-1\" class=\"sk-toggleable__label fitted sk-toggleable__label-arrow\"><div><div>Pipeline</div></div><div><a class=\"sk-estimator-doc-link fitted\" rel=\"noreferrer\" target=\"_blank\" href=\"https://scikit-learn.org/1.6/modules/generated/sklearn.pipeline.Pipeline.html\">?<span>Documentation for Pipeline</span></a><span class=\"sk-estimator-doc-link fitted\">i<span>Fitted</span></span></div></label><div class=\"sk-toggleable__content fitted\"><pre>Pipeline(steps=[(&#x27;onehotencoder&#x27;,\n",
       "                 OneHotEncoder(cols=[0, 1, 2, 3], use_cat_names=True)),\n",
       "                (&#x27;simpleimputer&#x27;, SimpleImputer()),\n",
       "                (&#x27;linearregression&#x27;, LinearRegression())])</pre></div> </div></div><div class=\"sk-serial\"><div class=\"sk-item\"><div class=\"sk-estimator fitted sk-toggleable\"><input class=\"sk-toggleable__control sk-hidden--visually\" id=\"sk-estimator-id-2\" type=\"checkbox\" ><label for=\"sk-estimator-id-2\" class=\"sk-toggleable__label fitted sk-toggleable__label-arrow\"><div><div>OneHotEncoder</div></div></label><div class=\"sk-toggleable__content fitted\"><pre>OneHotEncoder(cols=[0, 1, 2, 3], use_cat_names=True)</pre></div> </div></div><div class=\"sk-item\"><div class=\"sk-estimator fitted sk-toggleable\"><input class=\"sk-toggleable__control sk-hidden--visually\" id=\"sk-estimator-id-3\" type=\"checkbox\" ><label for=\"sk-estimator-id-3\" class=\"sk-toggleable__label fitted sk-toggleable__label-arrow\"><div><div>SimpleImputer</div></div><div><a class=\"sk-estimator-doc-link fitted\" rel=\"noreferrer\" target=\"_blank\" href=\"https://scikit-learn.org/1.6/modules/generated/sklearn.impute.SimpleImputer.html\">?<span>Documentation for SimpleImputer</span></a></div></label><div class=\"sk-toggleable__content fitted\"><pre>SimpleImputer()</pre></div> </div></div><div class=\"sk-item\"><div class=\"sk-estimator fitted sk-toggleable\"><input class=\"sk-toggleable__control sk-hidden--visually\" id=\"sk-estimator-id-4\" type=\"checkbox\" ><label for=\"sk-estimator-id-4\" class=\"sk-toggleable__label fitted sk-toggleable__label-arrow\"><div><div>LinearRegression</div></div><div><a class=\"sk-estimator-doc-link fitted\" rel=\"noreferrer\" target=\"_blank\" href=\"https://scikit-learn.org/1.6/modules/generated/sklearn.linear_model.LinearRegression.html\">?<span>Documentation for LinearRegression</span></a></div></label><div class=\"sk-toggleable__content fitted\"><pre>LinearRegression()</pre></div> </div></div></div></div></div></div>"
      ],
      "text/plain": [
       "Pipeline(steps=[('onehotencoder',\n",
       "                 OneHotEncoder(cols=[0, 1, 2, 3], use_cat_names=True)),\n",
       "                ('simpleimputer', SimpleImputer()),\n",
       "                ('linearregression', LinearRegression())])"
      ]
     },
     "execution_count": 24,
     "metadata": {},
     "output_type": "execute_result"
    }
   ],
   "source": [
    "# Build model, along with the transformations, in a pipeline\n",
    "model = make_pipeline(\n",
    "    OneHotEncoder(use_cat_names=True),\n",
    "    SimpleImputer(),\n",
    "    LinearRegression()\n",
    ")\n",
    "\n",
    "# Fit the model to the training data\n",
    "model.fit(X_train, y_train)\n"
   ]
  },
  {
   "cell_type": "markdown",
   "metadata": {},
   "source": [
    "### Evaluate"
   ]
  },
  {
   "cell_type": "markdown",
   "metadata": {},
   "source": [
    "The final step is to evaluate the model. In order to do that, I'll use it to make predictions for data that it saw during training."
   ]
  },
  {
   "cell_type": "code",
   "execution_count": 25,
   "metadata": {},
   "outputs": [],
   "source": [
    "# Use the predict method on the training data\n",
    "y_pred_training = model.predict(X_train)"
   ]
  },
  {
   "cell_type": "markdown",
   "metadata": {},
   "source": [
    "Now that I have the predictions, I'll use it to assess the model's performance with the training data. I'll use the same metric I used to evaluate the baseline model: mean absolute error.\n",
    "\n",
    "I'll calculate the training mae for the predictions in `y_pred_training` as compared to the true targets in y_train"
   ]
  },
  {
   "cell_type": "code",
   "execution_count": 26,
   "metadata": {},
   "outputs": [
    {
     "name": "stdout",
     "output_type": "stream",
     "text": [
      "Training MAE: 5649\n",
      "Baseline MAE: 27912\n"
     ]
    }
   ],
   "source": [
    "# Calculate training mae\n",
    "mae_training = mean_absolute_error(y_train, y_pred_training)\n",
    "print(\"Training MAE:\", round(mae_training))\n",
    "\n",
    "print(\"Baseline MAE:\", round(mae_baseline))"
   ]
  },
  {
   "cell_type": "markdown",
   "metadata": {},
   "source": [
    "The model beat the baseline model by over $20,000. That is a good indicator that it will be helpful in predicting apartment prices.\n",
    "\n",
    "I will now see how the model performs on the test set using the model's `.predict()` method.\n",
    "\n",
    "I will also find the mean absolute error for the prediction it makes"
   ]
  },
  {
   "cell_type": "code",
   "execution_count": 27,
   "metadata": {},
   "outputs": [
    {
     "name": "stdout",
     "output_type": "stream",
     "text": [
      "Test MAE: 14021\n",
      "84696.11525061703\n"
     ]
    }
   ],
   "source": [
    "# Predict using the test set\n",
    "y_pred_test = model.predict(X_test)\n",
    "\n",
    "# Find the mae for the predictions\n",
    "mae_test = mean_absolute_error(y_test, y_pred_test)\n",
    "print(\"Test MAE:\", round(mae_test))\n",
    "\n",
    "print(y_pred_test[0])\n"
   ]
  },
  {
   "cell_type": "markdown",
   "metadata": {},
   "source": [
    "The test mean absolute error is lesser than the baseline mae by $13,000, which is a good indicator."
   ]
  },
  {
   "cell_type": "markdown",
   "metadata": {},
   "source": [
    "## Communicate Results"
   ]
  },
  {
   "cell_type": "markdown",
   "metadata": {},
   "source": [
    "I will wrap the model in a function so that anyone can provide inputs and receive a predicted price as output.\n",
    "\n",
    "The function will take 4 arguments: area, latitude, longitude and borough, and return the model's prediction for an apartent price."
   ]
  },
  {
   "cell_type": "code",
   "execution_count": 53,
   "metadata": {},
   "outputs": [],
   "source": [
    "def predict_apt_price(area, lat, lon, borough):\n",
    "    data = [[\n",
    "        area,\n",
    "        lat,\n",
    "        lon,\n",
    "        borough\n",
    "    ]]\n",
    "    prediction = model.predict(data)[0]\n",
    "    prediction = int(prediction)\n",
    "    return f'Predicted apartment price: ${prediction:,}'\n"
   ]
  },
  {
   "cell_type": "markdown",
   "metadata": {},
   "source": [
    "I will now test the function with the following parameters:\n",
    "- area: 150\n",
    "- lat: 19.39\n",
    "- lon: -99.09\n",
    "- borough: Iztacalco"
   ]
  },
  {
   "cell_type": "code",
   "execution_count": 55,
   "metadata": {},
   "outputs": [
    {
     "data": {
      "text/plain": [
       "'Predicted apartment price: $43,342'"
      ]
     },
     "execution_count": 55,
     "metadata": {},
     "output_type": "execute_result"
    }
   ],
   "source": [
    "# Test the function\n",
    "predict_apt_price(100, 19.39, -99.09, \"Iztacalco\")"
   ]
  }
 ],
 "metadata": {
  "kernelspec": {
   "display_name": "Python 3",
   "language": "python",
   "name": "python3"
  },
  "language_info": {
   "codemirror_mode": {
    "name": "ipython",
    "version": 3
   },
   "file_extension": ".py",
   "mimetype": "text/x-python",
   "name": "python",
   "nbconvert_exporter": "python",
   "pygments_lexer": "ipython3",
   "version": "3.12.1"
  }
 },
 "nbformat": 4,
 "nbformat_minor": 2
}
