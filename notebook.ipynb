{
 "cells": [
  {
   "cell_type": "markdown",
   "metadata": {},
   "source": [
    "# Predicting Apartment Prices in Mexico City"
   ]
  },
  {
   "cell_type": "markdown",
   "metadata": {},
   "source": [
    "In this project, I will predict the prices of apartments in Mexico City (Distrito Federal)"
   ]
  },
  {
   "cell_type": "code",
   "execution_count": 23,
   "metadata": {},
   "outputs": [],
   "source": [
    "# Import libraries\n",
    "import pandas as pd\n",
    "import matplotlib.pyplot as plt\n",
    "import seaborn as sns\n",
    "from glob import glob"
   ]
  },
  {
   "cell_type": "markdown",
   "metadata": {},
   "source": [
    "## Data Import, Cleaning and Preparation"
   ]
  },
  {
   "cell_type": "markdown",
   "metadata": {},
   "source": [
    "There are 5 different csv files for this project. I will import one of them, clean it, add all the cleaning steps to a function, and apply the function to the rest of the csv files."
   ]
  },
  {
   "cell_type": "code",
   "execution_count": 24,
   "metadata": {},
   "outputs": [
    {
     "data": {
      "text/html": [
       "<div>\n",
       "<style scoped>\n",
       "    .dataframe tbody tr th:only-of-type {\n",
       "        vertical-align: middle;\n",
       "    }\n",
       "\n",
       "    .dataframe tbody tr th {\n",
       "        vertical-align: top;\n",
       "    }\n",
       "\n",
       "    .dataframe thead th {\n",
       "        text-align: right;\n",
       "    }\n",
       "</style>\n",
       "<table border=\"1\" class=\"dataframe\">\n",
       "  <thead>\n",
       "    <tr style=\"text-align: right;\">\n",
       "      <th></th>\n",
       "      <th>Unnamed: 0</th>\n",
       "      <th>operation</th>\n",
       "      <th>property_type</th>\n",
       "      <th>place_with_parent_names</th>\n",
       "      <th>lat-lon</th>\n",
       "      <th>price</th>\n",
       "      <th>currency</th>\n",
       "      <th>price_aprox_local_currency</th>\n",
       "      <th>price_aprox_usd</th>\n",
       "      <th>surface_total_in_m2</th>\n",
       "      <th>surface_covered_in_m2</th>\n",
       "      <th>price_usd_per_m2</th>\n",
       "      <th>price_per_m2</th>\n",
       "      <th>floor</th>\n",
       "      <th>rooms</th>\n",
       "      <th>expenses</th>\n",
       "      <th>properati_url</th>\n",
       "    </tr>\n",
       "  </thead>\n",
       "  <tbody>\n",
       "    <tr>\n",
       "      <th>0</th>\n",
       "      <td>1</td>\n",
       "      <td>sell</td>\n",
       "      <td>apartment</td>\n",
       "      <td>|Miguel Hidalgo|Distrito Federal|México|</td>\n",
       "      <td>23.634501,-102.552788</td>\n",
       "      <td>5500000.0</td>\n",
       "      <td>MXN</td>\n",
       "      <td>5450245.50</td>\n",
       "      <td>289775.66</td>\n",
       "      <td>NaN</td>\n",
       "      <td>54.0</td>\n",
       "      <td>NaN</td>\n",
       "      <td>101851.851900</td>\n",
       "      <td>NaN</td>\n",
       "      <td>NaN</td>\n",
       "      <td>NaN</td>\n",
       "      <td>http://miguel-hidalgo-df.properati.com.mx/o3zb...</td>\n",
       "    </tr>\n",
       "    <tr>\n",
       "      <th>1</th>\n",
       "      <td>2</td>\n",
       "      <td>sell</td>\n",
       "      <td>house</td>\n",
       "      <td>|Iztapalapa|Distrito Federal|México|</td>\n",
       "      <td>19.31033,-99.068557</td>\n",
       "      <td>1512000.0</td>\n",
       "      <td>MXN</td>\n",
       "      <td>1498321.97</td>\n",
       "      <td>79661.96</td>\n",
       "      <td>NaN</td>\n",
       "      <td>80.0</td>\n",
       "      <td>NaN</td>\n",
       "      <td>18900.000000</td>\n",
       "      <td>NaN</td>\n",
       "      <td>NaN</td>\n",
       "      <td>NaN</td>\n",
       "      <td>http://iztapalapa.properati.com.mx/q7t0_venta_...</td>\n",
       "    </tr>\n",
       "    <tr>\n",
       "      <th>2</th>\n",
       "      <td>3</td>\n",
       "      <td>sell</td>\n",
       "      <td>apartment</td>\n",
       "      <td>|Tlalpan|Distrito Federal|México|</td>\n",
       "      <td>19.279771,-99.234597</td>\n",
       "      <td>926667.0</td>\n",
       "      <td>MXN</td>\n",
       "      <td>918284.00</td>\n",
       "      <td>48822.82</td>\n",
       "      <td>NaN</td>\n",
       "      <td>100.0</td>\n",
       "      <td>NaN</td>\n",
       "      <td>9266.670000</td>\n",
       "      <td>NaN</td>\n",
       "      <td>NaN</td>\n",
       "      <td>NaN</td>\n",
       "      <td>http://tlalpan.properati.com.mx/qbi4_venta_dep...</td>\n",
       "    </tr>\n",
       "    <tr>\n",
       "      <th>3</th>\n",
       "      <td>4</td>\n",
       "      <td>sell</td>\n",
       "      <td>apartment</td>\n",
       "      <td>|Miguel Hidalgo|Distrito Federal|México|</td>\n",
       "      <td>23.634501,-102.552788</td>\n",
       "      <td>6410000.0</td>\n",
       "      <td>MXN</td>\n",
       "      <td>6352013.39</td>\n",
       "      <td>337720.36</td>\n",
       "      <td>NaN</td>\n",
       "      <td>135.0</td>\n",
       "      <td>NaN</td>\n",
       "      <td>47481.481480</td>\n",
       "      <td>NaN</td>\n",
       "      <td>NaN</td>\n",
       "      <td>NaN</td>\n",
       "      <td>http://miguel-hidalgo-df.properati.com.mx/opeq...</td>\n",
       "    </tr>\n",
       "    <tr>\n",
       "      <th>4</th>\n",
       "      <td>5</td>\n",
       "      <td>sell</td>\n",
       "      <td>apartment</td>\n",
       "      <td>|Benito Juárez|Quintana Roo|México|</td>\n",
       "      <td>21.1902642,-86.8198375</td>\n",
       "      <td>875000.0</td>\n",
       "      <td>USD</td>\n",
       "      <td>16457437.50</td>\n",
       "      <td>875000.00</td>\n",
       "      <td>0.0</td>\n",
       "      <td>263.0</td>\n",
       "      <td>NaN</td>\n",
       "      <td>3326.996198</td>\n",
       "      <td>NaN</td>\n",
       "      <td>NaN</td>\n",
       "      <td>NaN</td>\n",
       "      <td>http://cancun.properati.com.mx/hg4t_venta_depa...</td>\n",
       "    </tr>\n",
       "  </tbody>\n",
       "</table>\n",
       "</div>"
      ],
      "text/plain": [
       "   Unnamed: 0 operation property_type  \\\n",
       "0           1      sell     apartment   \n",
       "1           2      sell         house   \n",
       "2           3      sell     apartment   \n",
       "3           4      sell     apartment   \n",
       "4           5      sell     apartment   \n",
       "\n",
       "                    place_with_parent_names                 lat-lon  \\\n",
       "0  |Miguel Hidalgo|Distrito Federal|México|   23.634501,-102.552788   \n",
       "1      |Iztapalapa|Distrito Federal|México|     19.31033,-99.068557   \n",
       "2         |Tlalpan|Distrito Federal|México|    19.279771,-99.234597   \n",
       "3  |Miguel Hidalgo|Distrito Federal|México|   23.634501,-102.552788   \n",
       "4       |Benito Juárez|Quintana Roo|México|  21.1902642,-86.8198375   \n",
       "\n",
       "       price currency  price_aprox_local_currency  price_aprox_usd  \\\n",
       "0  5500000.0      MXN                  5450245.50        289775.66   \n",
       "1  1512000.0      MXN                  1498321.97         79661.96   \n",
       "2   926667.0      MXN                   918284.00         48822.82   \n",
       "3  6410000.0      MXN                  6352013.39        337720.36   \n",
       "4   875000.0      USD                 16457437.50        875000.00   \n",
       "\n",
       "   surface_total_in_m2  surface_covered_in_m2  price_usd_per_m2  \\\n",
       "0                  NaN                   54.0               NaN   \n",
       "1                  NaN                   80.0               NaN   \n",
       "2                  NaN                  100.0               NaN   \n",
       "3                  NaN                  135.0               NaN   \n",
       "4                  0.0                  263.0               NaN   \n",
       "\n",
       "    price_per_m2  floor  rooms  expenses  \\\n",
       "0  101851.851900    NaN    NaN       NaN   \n",
       "1   18900.000000    NaN    NaN       NaN   \n",
       "2    9266.670000    NaN    NaN       NaN   \n",
       "3   47481.481480    NaN    NaN       NaN   \n",
       "4    3326.996198    NaN    NaN       NaN   \n",
       "\n",
       "                                       properati_url  \n",
       "0  http://miguel-hidalgo-df.properati.com.mx/o3zb...  \n",
       "1  http://iztapalapa.properati.com.mx/q7t0_venta_...  \n",
       "2  http://tlalpan.properati.com.mx/qbi4_venta_dep...  \n",
       "3  http://miguel-hidalgo-df.properati.com.mx/opeq...  \n",
       "4  http://cancun.properati.com.mx/hg4t_venta_depa...  "
      ]
     },
     "metadata": {},
     "output_type": "display_data"
    },
    {
     "name": "stdout",
     "output_type": "stream",
     "text": [
      "<class 'pandas.core.frame.DataFrame'>\n",
      "RangeIndex: 4628 entries, 0 to 4627\n",
      "Data columns (total 17 columns):\n",
      " #   Column                      Non-Null Count  Dtype  \n",
      "---  ------                      --------------  -----  \n",
      " 0   Unnamed: 0                  4628 non-null   int64  \n",
      " 1   operation                   4628 non-null   object \n",
      " 2   property_type               4628 non-null   object \n",
      " 3   place_with_parent_names     4628 non-null   object \n",
      " 4   lat-lon                     4144 non-null   object \n",
      " 5   price                       4538 non-null   float64\n",
      " 6   currency                    4538 non-null   object \n",
      " 7   price_aprox_local_currency  4538 non-null   float64\n",
      " 8   price_aprox_usd             4538 non-null   float64\n",
      " 9   surface_total_in_m2         1668 non-null   float64\n",
      " 10  surface_covered_in_m2       4436 non-null   float64\n",
      " 11  price_usd_per_m2            1150 non-null   float64\n",
      " 12  price_per_m2                4249 non-null   float64\n",
      " 13  floor                       291 non-null    float64\n",
      " 14  rooms                       136 non-null    float64\n",
      " 15  expenses                    5 non-null      float64\n",
      " 16  properati_url               4628 non-null   object \n",
      "dtypes: float64(10), int64(1), object(6)\n",
      "memory usage: 614.8+ KB\n"
     ]
    },
    {
     "data": {
      "text/plain": [
       "None"
      ]
     },
     "metadata": {},
     "output_type": "display_data"
    }
   ],
   "source": [
    "# Import csv file and inspect it\n",
    "df1 = pd.read_csv('/workspaces/Predicting-Apartment-Prices-in-Mexico-City/mexico-city-real-estate-1.csv')\n",
    "display(df1.head())\n",
    "display(df1.info())"
   ]
  },
  {
   "cell_type": "markdown",
   "metadata": {},
   "source": [
    "Some of the columns contain null values. I will drop columns where at least 50% of its data are null values. I will impute the values in the remaining columns."
   ]
  },
  {
   "cell_type": "code",
   "execution_count": 25,
   "metadata": {},
   "outputs": [
    {
     "data": {
      "text/plain": [
       "Unnamed: 0                    False\n",
       "operation                     False\n",
       "property_type                 False\n",
       "place_with_parent_names       False\n",
       "lat-lon                       False\n",
       "price                         False\n",
       "currency                      False\n",
       "price_aprox_local_currency    False\n",
       "price_aprox_usd               False\n",
       "surface_total_in_m2            True\n",
       "surface_covered_in_m2         False\n",
       "price_usd_per_m2               True\n",
       "price_per_m2                  False\n",
       "floor                          True\n",
       "rooms                          True\n",
       "expenses                       True\n",
       "properati_url                 False\n",
       "dtype: bool"
      ]
     },
     "execution_count": 25,
     "metadata": {},
     "output_type": "execute_result"
    }
   ],
   "source": [
    "# Checking columns with 50% of more missing values\n",
    "(df1.isna().sum() / len(df1)) >= 0.5"
   ]
  },
  {
   "cell_type": "markdown",
   "metadata": {},
   "source": [
    "The columns which have 50% of more missing data are: `surface_total_in_m2`, `price_usd_per_m2`, `floor`, `rooms`, `expenses`.\n",
    "I will drop these columns"
   ]
  },
  {
   "cell_type": "code",
   "execution_count": 26,
   "metadata": {},
   "outputs": [],
   "source": [
    "# Drop affected columns\n",
    "df1.drop(columns=['surface_total_in_m2',\n",
    "                  'price_usd_per_m2',\n",
    "                  'floor',\n",
    "                  'rooms',\n",
    "                  'expenses'],\n",
    "                  inplace=True)"
   ]
  },
  {
   "cell_type": "markdown",
   "metadata": {},
   "source": [
    "Since I'm concerned with only the apartments in Mexico City - Distrito Federal, I will subset on the `property_type` and filter for apartments.\n",
    "\n",
    "Also, I will subset on `place_with_parent_names` and filter for those that contain Distrito Federal"
   ]
  },
  {
   "cell_type": "code",
   "execution_count": 27,
   "metadata": {},
   "outputs": [],
   "source": [
    "# Subset on properties that are apartments\n",
    "apt_filter = df1['property_type'] == 'apartment'\n",
    "\n",
    "# Subset on locations that contain Distrito Federal\n",
    "state_filter = df1['place_with_parent_names'].str.contains('Distrito Federal')\n",
    "\n",
    "# Apply the filters\n",
    "df1 = df1[apt_filter & state_filter]"
   ]
  },
  {
   "cell_type": "markdown",
   "metadata": {},
   "source": [
    "I will split the `lat-lon` column into seperate `lat` and `lon` columns. I will then drop the `lat-lon` column afterwards."
   ]
  },
  {
   "cell_type": "code",
   "execution_count": 28,
   "metadata": {},
   "outputs": [],
   "source": [
    "# Create seperate lat and lon columns and convert to float data type\n",
    "df1[['lat', 'lon']] = (\n",
    "    df1['lat-lon'].str.split(',', expand=True)\n",
    "    .astype(float)\n",
    ")\n",
    "\n",
    "# Drop lat-lon column\n",
    "df1.drop(\n",
    "    columns=['lat-lon'],\n",
    "    inplace=True\n",
    ")"
   ]
  },
  {
   "cell_type": "markdown",
   "metadata": {},
   "source": [
    "Mexico City is divided into boroughs. The `place_with_parent_names` contains the location hierarchy of each property in this order: |Borough|State|Country|.\n",
    "\n",
    "I will create a new column, `borough`, to which I will extract the borough name from the location hierarchy and drop the column containing the location hierarchy."
   ]
  },
  {
   "cell_type": "code",
   "execution_count": 29,
   "metadata": {},
   "outputs": [],
   "source": [
    "# Extract borough names\n",
    "df1['borough'] = (\n",
    "    df1['place_with_parent_names'].str\n",
    "    .split('|', expand=True)[1]\n",
    "    )\n",
    "\n",
    "# Drop place_with_parent_names column\n",
    "df1.drop(\n",
    "    columns=['place_with_parent_names'],\n",
    "    inplace=True\n",
    ")"
   ]
  },
  {
   "cell_type": "markdown",
   "metadata": {},
   "source": [
    "I will inspect the numerical columns, particularly the `price_aprox_usd` and `surface_covered_in_m2`."
   ]
  },
  {
   "cell_type": "code",
   "execution_count": 30,
   "metadata": {},
   "outputs": [
    {
     "data": {
      "text/html": [
       "<div>\n",
       "<style scoped>\n",
       "    .dataframe tbody tr th:only-of-type {\n",
       "        vertical-align: middle;\n",
       "    }\n",
       "\n",
       "    .dataframe tbody tr th {\n",
       "        vertical-align: top;\n",
       "    }\n",
       "\n",
       "    .dataframe thead th {\n",
       "        text-align: right;\n",
       "    }\n",
       "</style>\n",
       "<table border=\"1\" class=\"dataframe\">\n",
       "  <thead>\n",
       "    <tr style=\"text-align: right;\">\n",
       "      <th></th>\n",
       "      <th>price_aprox_usd</th>\n",
       "      <th>surface_covered_in_m2</th>\n",
       "    </tr>\n",
       "  </thead>\n",
       "  <tbody>\n",
       "    <tr>\n",
       "      <th>count</th>\n",
       "      <td>2.754000e+03</td>\n",
       "      <td>2624.000000</td>\n",
       "    </tr>\n",
       "    <tr>\n",
       "      <th>mean</th>\n",
       "      <td>2.154891e+05</td>\n",
       "      <td>128.730945</td>\n",
       "    </tr>\n",
       "    <tr>\n",
       "      <th>std</th>\n",
       "      <td>3.972478e+05</td>\n",
       "      <td>656.209935</td>\n",
       "    </tr>\n",
       "    <tr>\n",
       "      <th>min</th>\n",
       "      <td>7.823940e+03</td>\n",
       "      <td>0.000000</td>\n",
       "    </tr>\n",
       "    <tr>\n",
       "      <th>25%</th>\n",
       "      <td>5.133285e+04</td>\n",
       "      <td>60.000000</td>\n",
       "    </tr>\n",
       "    <tr>\n",
       "      <th>50%</th>\n",
       "      <td>9.620551e+04</td>\n",
       "      <td>80.000000</td>\n",
       "    </tr>\n",
       "    <tr>\n",
       "      <th>75%</th>\n",
       "      <td>2.046332e+05</td>\n",
       "      <td>110.000000</td>\n",
       "    </tr>\n",
       "    <tr>\n",
       "      <th>max</th>\n",
       "      <td>8.429837e+06</td>\n",
       "      <td>31840.000000</td>\n",
       "    </tr>\n",
       "  </tbody>\n",
       "</table>\n",
       "</div>"
      ],
      "text/plain": [
       "       price_aprox_usd  surface_covered_in_m2\n",
       "count     2.754000e+03            2624.000000\n",
       "mean      2.154891e+05             128.730945\n",
       "std       3.972478e+05             656.209935\n",
       "min       7.823940e+03               0.000000\n",
       "25%       5.133285e+04              60.000000\n",
       "50%       9.620551e+04              80.000000\n",
       "75%       2.046332e+05             110.000000\n",
       "max       8.429837e+06           31840.000000"
      ]
     },
     "execution_count": 30,
     "metadata": {},
     "output_type": "execute_result"
    }
   ],
   "source": [
    "# Inspect price_aprox_usd and surface_covered_in_m2 columns\n",
    "df1[['price_aprox_usd', 'surface_covered_in_m2']].describe()"
   ]
  },
  {
   "cell_type": "markdown",
   "metadata": {},
   "source": [
    "The price column shows a mean of over $200k, while the median is under $100k, indicating the presence of a few apartments with exceptionally high prices. This is highlighted by the maximum price exceeding $8 million.\n",
    "\n",
    "For the area column, the minimum value of 0 square meters is unrealistic for an apartment, while the maximum area of over 30,000 square meters is significantly larger than the 75th percentile value of 110 square meters.\n",
    "\n",
    "To address these outlier issues, I will filter for apartments priced at $150k or less and those with areas between the 10th and 90th percentiles."
   ]
  },
  {
   "cell_type": "code",
   "execution_count": 31,
   "metadata": {},
   "outputs": [],
   "source": [
    "# Defining the filters\n",
    "price_filter = df1['price_aprox_usd'] <= 150000\n",
    "\n",
    "area_low, area_high = df1['surface_covered_in_m2'].quantile([.1, .9])\n",
    "area_filter = df1['surface_covered_in_m2'].between(area_low, area_high)\n",
    "\n",
    "# Applying the filters\n",
    "df1 = df1[price_filter & area_filter]"
   ]
  },
  {
   "cell_type": "markdown",
   "metadata": {},
   "source": [
    "The next thing I will look at are categorical columns with low or high cardinality. Low cardinality columns are those with few unique values while the high cardinality ones with many unique values.\n",
    "\n",
    "If there's only one category in a column, it won't provide any unique information to the model. Columns where nearly every row has its own category won't help the model in identifying useful trends in the data.\n",
    "\n",
    "I will calculate the number of unique values for the categorical columns in the data."
   ]
  },
  {
   "cell_type": "code",
   "execution_count": 32,
   "metadata": {},
   "outputs": [
    {
     "data": {
      "text/plain": [
       "operation           1\n",
       "property_type       1\n",
       "currency            1\n",
       "properati_url    1508\n",
       "borough            15\n",
       "dtype: int64"
      ]
     },
     "execution_count": 32,
     "metadata": {},
     "output_type": "execute_result"
    }
   ],
   "source": [
    "# Number of unique values in each categorical columns\n",
    "df1.select_dtypes('object').nunique()"
   ]
  },
  {
   "cell_type": "markdown",
   "metadata": {},
   "source": [
    "Low cardinality columns: `operation`, `property_type`, `currency`\n",
    "\n",
    "High cardinality columns: `properati_url`\n",
    "\n",
    "I will drop these columns"
   ]
  },
  {
   "cell_type": "code",
   "execution_count": 40,
   "metadata": {},
   "outputs": [],
   "source": [
    "# Drop low and high cardinality columns\n",
    "df1.drop(\n",
    "    columns=[\n",
    "    'operation',\n",
    "    'property_type',\n",
    "    'currency',\n",
    "    'properati_url'\n",
    "    ],\n",
    "    inplace=True\n",
    ")"
   ]
  },
  {
   "cell_type": "markdown",
   "metadata": {},
   "source": [
    "It is also important to drop any columns that will constitute leakage, that is, features that were created using our target (price) which would give it access to information it's not supposed to.\n",
    "\n",
    "Example of such columns are: `price`, `price_aprox_local_currency`, `price_per_m2`, `price_usd_per_m2`(already dropped with the null values earlier)\n",
    "\n",
    "There is also the issue of multi-colinearity. Multicollinearity happens when two or more features in a dataset are too closely related. This makes it hard for the model to know which one matters more. Example of such columns are: `surface_area_total_in_m2` and  `rooms`, as they will be positively correlated with `surface_covered_in_m2`.\n",
    "\n",
    "Though these columns were aleady dropped with the null values earlier.\n",
    "\n"
   ]
  },
  {
   "cell_type": "code",
   "execution_count": 46,
   "metadata": {},
   "outputs": [],
   "source": [
    "# Drop leaky columns\n",
    "df1.drop(\n",
    "    columns = [\n",
    "        'price',\n",
    "        'price_aprox_local_currency',\n",
    "        'price_per_m2'\n",
    "    ],\n",
    "    inplace=True\n",
    ")"
   ]
  },
  {
   "cell_type": "markdown",
   "metadata": {},
   "source": [
    "There is still one column that should be dropped as it is not necessary for this project: `Unnamed: 0`."
   ]
  },
  {
   "cell_type": "code",
   "execution_count": 49,
   "metadata": {},
   "outputs": [],
   "source": [
    "# Drop unnecessary column\n",
    "df1.drop(columns=['Unnamed: 0'], inplace=True)"
   ]
  },
  {
   "cell_type": "markdown",
   "metadata": {},
   "source": [
    "Now that I'm done preprocessing the data, I will rename the columns appropriately"
   ]
  },
  {
   "cell_type": "code",
   "execution_count": 51,
   "metadata": {},
   "outputs": [],
   "source": [
    "rename_dict = {\n",
    "    'price_aprox_usd': 'price_usd',\n",
    "    'surface_covered_in_m2': 'surface_area_m2',\n",
    "    'lat': 'lat',\n",
    "    'lon': 'lon',\n",
    "    'borough': 'borough'\n",
    "}\n",
    "\n",
    "df1.rename(columns= rename_dict, inplace= True)"
   ]
  },
  {
   "cell_type": "code",
   "execution_count": 52,
   "metadata": {},
   "outputs": [
    {
     "data": {
      "text/plain": [
       "Index(['price_usd', 'surface_area_m2', 'lat', 'lon', 'borough'], dtype='object')"
      ]
     },
     "execution_count": 52,
     "metadata": {},
     "output_type": "execute_result"
    }
   ],
   "source": [
    "df1.columns"
   ]
  },
  {
   "cell_type": "markdown",
   "metadata": {},
   "source": []
  },
  {
   "cell_type": "code",
   "execution_count": 42,
   "metadata": {},
   "outputs": [
    {
     "data": {
      "text/plain": [
       "Unnamed: 0                     0\n",
       "price                          0\n",
       "price_aprox_local_currency     0\n",
       "price_aprox_usd                0\n",
       "surface_covered_in_m2          0\n",
       "price_per_m2                   0\n",
       "lat                           82\n",
       "lon                           82\n",
       "borough                        0\n",
       "dtype: int64"
      ]
     },
     "execution_count": 42,
     "metadata": {},
     "output_type": "execute_result"
    }
   ],
   "source": [
    "df1.isna().sum()"
   ]
  },
  {
   "cell_type": "code",
   "execution_count": 39,
   "metadata": {},
   "outputs": [
    {
     "data": {
      "text/plain": [
       "Unnamed: 0                      int64\n",
       "operation                      object\n",
       "property_type                  object\n",
       "price                         float64\n",
       "currency                       object\n",
       "price_aprox_local_currency    float64\n",
       "price_aprox_usd               float64\n",
       "surface_covered_in_m2         float64\n",
       "price_per_m2                  float64\n",
       "properati_url                  object\n",
       "lat                           float64\n",
       "lon                           float64\n",
       "borough                        object\n",
       "dtype: object"
      ]
     },
     "execution_count": 39,
     "metadata": {},
     "output_type": "execute_result"
    }
   ],
   "source": [
    "df1.head()\n",
    "df1.dtypes"
   ]
  },
  {
   "cell_type": "code",
   "execution_count": 36,
   "metadata": {},
   "outputs": [
    {
     "data": {
      "image/png": "[encoded data removed]",
      "text/plain": [
       "<Figure size 640x480 with 1 Axes>"
      ]
     },
     "metadata": {},
     "output_type": "display_data"
    }
   ],
   "source": [
    "df1['price_aprox_usd'].hist(bins=200);"
   ]
  },
  {
   "cell_type": "code",
   "execution_count": 37,
   "metadata": {},
   "outputs": [
    {
     "data": {
      "text/plain": [
       "Unnamed: 0                     0\n",
       "operation                      0\n",
       "property_type                  0\n",
       "price                          0\n",
       "currency                       0\n",
       "price_aprox_local_currency     0\n",
       "price_aprox_usd                0\n",
       "surface_covered_in_m2          0\n",
       "price_per_m2                   0\n",
       "properati_url                  0\n",
       "lat                           82\n",
       "lon                           82\n",
       "borough                        0\n",
       "dtype: int64"
      ]
     },
     "execution_count": 37,
     "metadata": {},
     "output_type": "execute_result"
    }
   ],
   "source": [
    "df1.isna().sum()"
   ]
  },
  {
   "cell_type": "code",
   "execution_count": null,
   "metadata": {},
   "outputs": [],
   "source": []
  }
 ],
 "metadata": {
  "kernelspec": {
   "display_name": "Python 3",
   "language": "python",
   "name": "python3"
  },
  "language_info": {
   "codemirror_mode": {
    "name": "ipython",
    "version": 3
   },
   "file_extension": ".py",
   "mimetype": "text/x-python",
   "name": "python",
   "nbconvert_exporter": "python",
   "pygments_lexer": "ipython3",
   "version": "3.12.1"
  }
 },
 "nbformat": 4,
 "nbformat_minor": 2
}
